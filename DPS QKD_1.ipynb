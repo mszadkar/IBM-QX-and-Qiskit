{
 "cells": [
  {
   "cell_type": "code",
   "execution_count": 4,
   "id": "14b7d3b2-a681-4a7e-818f-c38a99593099",
   "metadata": {
    "tags": []
   },
   "outputs": [],
   "source": [
    "# Importing standard Qiskit libraries\n",
    "from qiskit import QuantumCircuit, transpile\n",
    "from qiskit import execute\n",
    "from qiskit.compiler import assemble\n",
    "from qiskit import Aer\n",
    "from qiskit import QuantumRegister, ClassicalRegister, QuantumCircuit\n",
    "from qiskit.tools.jupyter import *\n",
    "from qiskit.visualization import *\n",
    "from ibm_quantum_widgets import *\n",
    "from numpy.random import randint\n",
    "import numpy as np\n",
    "import matplotlib.pyplot as plt\n",
    "import math\n",
    "from numpy import pi\n",
    "\n",
    "\n",
    "# qiskit-ibmq-provider has been deprecated.\n",
    "# Please see the Migration Guides in https://ibm.biz/provider_migration_guide for more detail.\n",
    "from qiskit_ibm_runtime import QiskitRuntimeService, Sampler, Estimator, Session, Options\n",
    "\n",
    "# Loading your IBM Quantum account(s)\n",
    "service = QiskitRuntimeService(channel=\"ibm_quantum\")\n",
    "# Simulate the quantum circuit and get the counts\n",
    "simulator = Aer.get_backend('qasm_simulator')\n",
    "# Invoke a primitive. For more details see https://docs.quantum-computing.ibm.com/run/primitives\n",
    "# result = Sampler().run(circuits).result()"
   ]
  },
  {
   "cell_type": "code",
   "execution_count": 5,
   "id": "afd6bf13-7517-4a42-9b92-dbf7a1e57766",
   "metadata": {
    "tags": []
   },
   "outputs": [],
   "source": [
    "#Alice encodes using phase encoding\n",
    "def phase_encoding(bit1, bit2, circuit, qreg_q):\n",
    "    encoding = []\n",
    "    if bit1==1 and bit2==0: #message is 10, i.e, phase difference is pi and 0\n",
    "        circuit.p(0, qreg_q[0])\n",
    "        circuit.p(pi, qreg_q[1])\n",
    "        circuit.p(pi, qreg_q[2])\n",
    "        encoding.append('pi 0')\n",
    "    elif bit1==1 and bit2==1:  #message is 11, i.e, phase difference is pi and pi\n",
    "        circuit.p(pi, qreg_q[0])\n",
    "        circuit.p(0, qreg_q[1])\n",
    "        circuit.p(pi, qreg_q[2])\n",
    "        encoding.append('pi pi')\n",
    "    elif bit1==0 and bit2==1:  #message is 01, i.e, phase difference is pi and 0\n",
    "        circuit.p(0, qreg_q[0])\n",
    "        circuit.p(0, qreg_q[1])\n",
    "        circuit.p(pi, qreg_q[2])\n",
    "        encoding.append('0 pi')\n",
    "    elif bit1==0 and bit2==0:\n",
    "        circuit.p(0, qreg_q[0])\n",
    "        circuit.p(0, qreg_q[1])\n",
    "        circuit.p(0, qreg_q[2])\n",
    "        encoding.append('0 0')\n",
    "    else:\n",
    "        raise ValueError(\"Invalid input bits. Please provide valid values (0 or 1) for bit1 and bit2.\")\n",
    "    return circuit, encoding"
   ]
  },
  {
   "cell_type": "code",
   "execution_count": 6,
   "id": "5b689048-f39f-42b0-8dd4-f99c7334443c",
   "metadata": {},
   "outputs": [],
   "source": [
    "def alice(bit1, bit2, circuit, qreg_q):\n",
    "    #create a weak coherent pulse |psi> = 1/sqrt(3)*(|100>+|010>+|001>)\n",
    "    circuit.x(qreg_q[0])\n",
    "    circuit.cu(1.91, 0, 0, 0, qreg_q[0], qreg_q[1])\n",
    "    circuit.cx(qreg_q[1], qreg_q[0])\n",
    "    circuit.ch(qreg_q[1], qreg_q[2])\n",
    "    circuit.cx(qreg_q[2], qreg_q[1])\n",
    "    #circuit.barrier(qreg_q[0], qreg_q[1], qreg_q[2], qreg_q[3], qreg_q[4])\n",
    "    \n",
    "    #phase encoding    \n",
    "    circuit, encoding = phase_encoding(bit1, bit2, circuit, qreg_q)\n",
    "    #circuit.barrier(qreg_q[0], qreg_q[1], qreg_q[2], qreg_q[3], qreg_q[4])\n",
    "\n",
    "    # display the circuit\n",
    "    #print(\"Circuit Created by Alice:\")\n",
    "    #display(circuit.draw())\n",
    "    return circuit, encoding"
   ]
  },
  {
   "cell_type": "code",
   "execution_count": 7,
   "id": "7bbaaf2e-8a12-47cf-b1c2-1c3c30eccf4b",
   "metadata": {},
   "outputs": [],
   "source": [
    "def bob(circuit, qreg_q, creg_c):\n",
    "    circuit.h(qreg_q[3])\n",
    "    circuit.h(qreg_q[4])\n",
    "    circuit.cx(qreg_q[3], qreg_q[0])\n",
    "    circuit.cx(qreg_q[3], qreg_q[1])\n",
    "    circuit.cx(qreg_q[4], qreg_q[1])\n",
    "    circuit.cx(qreg_q[4], qreg_q[2])\n",
    "    circuit.h(qreg_q[3])\n",
    "    circuit.h(qreg_q[4])\n",
    "    \n",
    "    #circuit.barrier(qreg_q[0], qreg_q[1], qreg_q[2], qreg_q[3], qreg_q[4])\n",
    "    circuit.measure(qreg_q[3], creg_c[3])\n",
    "    circuit.measure(qreg_q[4], creg_c[4])\n",
    "    \n",
    "    \n",
    "     # Get the classical bit values from the result\n",
    "    result = execute(circuit, Aer.get_backend('qasm_simulator'), shots=1000).result()\n",
    "    counts = result.get_counts(circuit)\n",
    "    \n",
    "    print(f\"Intermediate results: {counts}\")\n",
    "    c3_value  = int(list(counts.keys())[3], 2)\n",
    "    c4_value  = int(list(counts.keys())[4], 2)\n",
    "\n",
    "    #c3_value = int(result.get_counts(circuit).most_frequent()[3])\n",
    "    #c4_value = int(result.get_counts(circuit).most_frequent()[4])\n",
    "    return counts, c3_value, c4_value"
   ]
  },
  {
   "cell_type": "code",
   "execution_count": 8,
   "id": "d2a2b28e-67e0-4789-aaed-f8a8a82e1c6a",
   "metadata": {},
   "outputs": [],
   "source": [
    "def dps_qkd(alice_key):\n",
    "    #create arrays to store phase difference and key\n",
    "    encoding_array = []\n",
    "    bob_key = []\n",
    "    #we create a circuit with 5 qubits: 3 in use, 2 ancillary\n",
    "    qreg_q = QuantumRegister(5, 'q')\n",
    "    creg_c = ClassicalRegister(5, 'c')\n",
    "\n",
    "     # Create a quantum circuit with the desired registers\n",
    "    circuit = QuantumCircuit(qreg_q, creg_c)\n",
    "    \n",
    "    # Initialize all qubits to the |0⟩ state\n",
    "    circuit.initialize([1] + [0] * (2 ** qreg_q.size - 1), qreg_q)\n",
    "    \n",
    "    # Check if 'alice_key' is a NumPy array, and convert if necessary\n",
    "    if not isinstance(alice_key, np.ndarray):\n",
    "        alice_key = np.array(alice_key)\n",
    "        \n",
    "     # Convert the NumPy array to a Python list\n",
    "    alice_key = alice_key.tolist()\n",
    "    #This is a 3 qubit circuit, so we can send 2 bits of phase information at a time. Thus, we break down a message into pairs of two qubits at a time.\n",
    "    if len(alice_key) % 2 != 0:\n",
    "        # Add 0 at the end to make the length even\n",
    "        alice_key.append(0)\n",
    "    # Use list comprehension to create pairs\n",
    "    groups_of_2 = [(alice_key[i], alice_key[i + 1]) for i in range(0, len(alice_key), 2)]\n",
    "    \n",
    "    # alice and bob exchange 2 bits\n",
    "    for group in groups_of_2:\n",
    "        #alice sends 2 bits\n",
    "        circuit, encoding = alice(*group, circuit, qreg_q)\n",
    "        encoding_array.append(encoding)\n",
    "        counts, c3_value, c4_value = bob(circuit, qreg_q, creg_c)\n",
    "        bob_key.append(c3_value)\n",
    "        bob_key.append(c4_value)\n",
    "    return encoding_array, bob_key"
   ]
  },
  {
   "cell_type": "code",
   "execution_count": 9,
   "id": "45e07038-96af-498d-9c49-fc77fcf7f752",
   "metadata": {
    "tags": []
   },
   "outputs": [
    {
     "name": "stdout",
     "output_type": "stream",
     "text": [
      "Intermediate results: {'11000': 80, '01000': 82, '00000': 80, '10000': 758}\n",
      "Traceback \u001b[1;36m(most recent call last)\u001b[0m:\n",
      "\u001b[0m  Cell \u001b[0;32mIn[9], line 3\u001b[0m\n",
      "    encoding_array, bob_key = dps_qkd(alice_key)\u001b[0m\n",
      "\u001b[0m  Cell \u001b[0;32mIn[8], line 33\u001b[0m in \u001b[0;35mdps_qkd\u001b[0m\n",
      "    counts, c3_value, c4_value = bob(circuit, qreg_q, creg_c)\u001b[0m\n",
      "\u001b[1;36m  Cell \u001b[1;32mIn[7], line 22\u001b[1;36m in \u001b[1;35mbob\u001b[1;36m\n",
      "\u001b[1;33m    c4_value  = int(list(counts.keys())[4], 2)\u001b[1;36m\n",
      "\u001b[1;31mIndexError\u001b[0m\u001b[1;31m:\u001b[0m list index out of range\n",
      "\n",
      "Use %tb to get the full traceback.\n"
     ]
    },
    {
     "data": {
      "text/html": [
       "\n",
       "<style>\n",
       ".button {\n",
       "  border: none;\n",
       "  color: white;\n",
       "  padding: 4px 8px;\n",
       "  text-align: center;\n",
       "  text-decoration: none;\n",
       "  display: inline-block;\n",
       "  font-size: 12px;\n",
       "  margin: 4px 2px;\n",
       "  transition-duration: 0.2s;\n",
       "  cursor: pointer;\n",
       "}\n",
       ".iqx-button {\n",
       "  background-color: #0f62fe; \n",
       "  color: white; \n",
       "}\n",
       ".iqx-button:hover {\n",
       "  background-color: #0043ce;\n",
       "  color: white;\n",
       "}\n",
       "</style>\n",
       "<a href=\"https://stackoverflow.com/search?q=IndexError: list index out of range\" target='_blank'><button class='button iqx-button'>Search for solution online</button></a>\n"
      ],
      "text/plain": [
       "<IPython.core.display.HTML object>"
      ]
     },
     "metadata": {},
     "output_type": "display_data"
    }
   ],
   "source": [
    "# Example usage\n",
    "alice_key = [0, 1, 1, 0]\n",
    "encoding_array, bob_key = dps_qkd(alice_key)\n",
    "print(f\"Key sent by Alice: {alice_key}\")\n",
    "print(f\"Key received by Bob: {bob_key}\")\n",
    "print(f\"Phase encoding used by Alice: {encoding_array}\")"
   ]
  },
  {
   "cell_type": "code",
   "execution_count": 10,
   "id": "752c7fc6-6325-4134-b3b6-2008d669203a",
   "metadata": {
    "tags": []
   },
   "outputs": [
    {
     "name": "stdout",
     "output_type": "stream",
     "text": [
      "Intermediate results: {'00000': 88, '01000': 100, '11000': 95, '10000': 717}\n",
      "Traceback \u001b[1;36m(most recent call last)\u001b[0m:\n",
      "\u001b[0m  Cell \u001b[0;32mIn[10], line 5\u001b[0m\n",
      "    encoding_array, bob_key = dps_qkd(alice_key)\u001b[0m\n",
      "\u001b[0m  Cell \u001b[0;32mIn[8], line 33\u001b[0m in \u001b[0;35mdps_qkd\u001b[0m\n",
      "    counts, c3_value, c4_value = bob(circuit, qreg_q, creg_c)\u001b[0m\n",
      "\u001b[1;36m  Cell \u001b[1;32mIn[7], line 22\u001b[1;36m in \u001b[1;35mbob\u001b[1;36m\n",
      "\u001b[1;33m    c4_value  = int(list(counts.keys())[4], 2)\u001b[1;36m\n",
      "\u001b[1;31mIndexError\u001b[0m\u001b[1;31m:\u001b[0m list index out of range\n",
      "\n",
      "Use %tb to get the full traceback.\n"
     ]
    },
    {
     "data": {
      "text/html": [
       "\n",
       "<style>\n",
       ".button {\n",
       "  border: none;\n",
       "  color: white;\n",
       "  padding: 4px 8px;\n",
       "  text-align: center;\n",
       "  text-decoration: none;\n",
       "  display: inline-block;\n",
       "  font-size: 12px;\n",
       "  margin: 4px 2px;\n",
       "  transition-duration: 0.2s;\n",
       "  cursor: pointer;\n",
       "}\n",
       ".iqx-button {\n",
       "  background-color: #0f62fe; \n",
       "  color: white; \n",
       "}\n",
       ".iqx-button:hover {\n",
       "  background-color: #0043ce;\n",
       "  color: white;\n",
       "}\n",
       "</style>\n",
       "<a href=\"https://stackoverflow.com/search?q=IndexError: list index out of range\" target='_blank'><button class='button iqx-button'>Search for solution online</button></a>\n"
      ],
      "text/plain": [
       "<IPython.core.display.HTML object>"
      ]
     },
     "metadata": {},
     "output_type": "display_data"
    }
   ],
   "source": [
    "# call the function\n",
    "n=100\n",
    "np.random.seed(seed=0)\n",
    "alice_key = randint(2, size=n)\n",
    "encoding_array, bob_key = dps_qkd(alice_key)\n",
    "print(f\"Key sent by Alice: {alice_key}\")\n",
    "print(f\"Key received by Bob: {bob_key}\")\n",
    "print(f\"Phase encoding used by Alice: {encoding_array}\")"
   ]
  },
  {
   "cell_type": "code",
   "execution_count": 8,
   "id": "28a212da-8350-4554-8ac5-6f3cc23678e3",
   "metadata": {
    "tags": []
   },
   "outputs": [
    {
     "name": "stdout",
     "output_type": "stream",
     "text": [
      "Output State in Ket Vector Notation:\n",
      "[0.70710678+0.j 0.        +0.j 0.        +0.j 0.70710678+0.j]\n"
     ]
    }
   ],
   "source": [
    "#Block to print state vector\n",
    "\n",
    "from qiskit import QuantumCircuit, Aer, execute\n",
    "from qiskit.quantum_info import Statevector\n",
    "\n",
    "# Create a quantum circuit\n",
    "qc = QuantumCircuit(2)\n",
    "qc.h(0)\n",
    "qc.cx(0, 1)\n",
    "\n",
    "# Define the simulator\n",
    "simulator = Aer.get_backend('statevector_simulator')\n",
    "\n",
    "# Simulate the circuit and obtain the state vector of the output state\n",
    "output_state = execute(qc, simulator).result().get_statevector()\n",
    "\n",
    "# Create a Statevector object\n",
    "statevector = Statevector(output_state)\n",
    "\n",
    "# Print the ket vector notation\n",
    "ket_vector_notation = statevector.data\n",
    "print(\"Output State in Ket Vector Notation:\")\n",
    "print(ket_vector_notation)"
   ]
  },
  {
   "cell_type": "code",
   "execution_count": 19,
   "id": "24be8d14-ea5c-4d7c-895a-de2deac47f85",
   "metadata": {
    "tags": []
   },
   "outputs": [
    {
     "name": "stdout",
     "output_type": "stream",
     "text": [
      "Classical bit value: 0\n"
     ]
    }
   ],
   "source": [
    "from qiskit import QuantumCircuit, Aer, execute, ClassicalRegister, QuantumRegister\n",
    "\n",
    "# Create a quantum circuit with a classical register\n",
    "qreg_q = QuantumRegister(1, 'q')\n",
    "creg_c = ClassicalRegister(1, 'c')\n",
    "circuit = QuantumCircuit(qreg_q, creg_c)\n",
    "\n",
    "# Apply some quantum operations, e.g., a measurement\n",
    "circuit.measure(qreg_q[0], creg_c[0])\n",
    "\n",
    "# Simulate the circuit using the statevector simulator\n",
    "backend = Aer.get_backend('qasm_simulator')\n",
    "result = execute(circuit, backend).result()\n",
    "\n",
    "# Get the counts from the result\n",
    "counts = result.get_counts(circuit)\n",
    "\n",
    "# Extract the classical bit value from the counts\n",
    "bit_value = int(list(counts.keys())[0], 2)\n",
    "\n",
    "# Print the result\n",
    "print(f\"Classical bit value: {bit_value}\")\n"
   ]
  },
  {
   "cell_type": "code",
   "execution_count": null,
   "id": "2195d297-e077-4346-bfc9-844535107985",
   "metadata": {},
   "outputs": [],
   "source": []
  }
 ],
 "metadata": {
  "kernelspec": {
   "display_name": "Python 3 (ipykernel)",
   "language": "python",
   "name": "python3"
  },
  "language_info": {
   "codemirror_mode": {
    "name": "ipython",
    "version": 3
   },
   "file_extension": ".py",
   "mimetype": "text/x-python",
   "name": "python",
   "nbconvert_exporter": "python",
   "pygments_lexer": "ipython3",
   "version": "3.10.8"
  },
  "widgets": {
   "application/vnd.jupyter.widget-state+json": {
    "state": {
     "04b0defcc4a94d1a9fbd6a4927aed58a": {
      "model_module": "@jupyter-widgets/controls",
      "model_module_version": "2.0.0",
      "model_name": "HTMLModel",
      "state": {
       "layout": "IPY_MODEL_7a597b5c798a451d8fe30a1a91d230f0",
       "style": "IPY_MODEL_97dba435c3b64cfdac42dd7a49c823e7",
       "value": "<h5>Message</h5>"
      }
     },
     "06ec45858af9447489c66580582d5f44": {
      "model_module": "@jupyter-widgets/controls",
      "model_module_version": "2.0.0",
      "model_name": "ButtonStyleModel",
      "state": {
       "font_family": null,
       "font_size": null,
       "font_style": null,
       "font_variant": null,
       "font_weight": null,
       "text_color": null,
       "text_decoration": null
      }
     },
     "11e0917caaf84ba6bf2c2ccdb58ae476": {
      "model_module": "@jupyter-widgets/controls",
      "model_module_version": "2.0.0",
      "model_name": "HTMLStyleModel",
      "state": {
       "description_width": "",
       "font_size": null,
       "text_color": null
      }
     },
     "1415da6a6a0647ba80ae9133b41175e7": {
      "model_module": "@jupyter-widgets/base",
      "model_module_version": "2.0.0",
      "model_name": "LayoutModel",
      "state": {
       "width": "145px"
      }
     },
     "193d5662060b4d98a54add495e78c02f": {
      "model_module": "@jupyter-widgets/base",
      "model_module_version": "2.0.0",
      "model_name": "LayoutModel",
      "state": {}
     },
     "1a6d9f20dc454a058ea145003d212f10": {
      "model_module": "@jupyter-widgets/controls",
      "model_module_version": "2.0.0",
      "model_name": "HTMLStyleModel",
      "state": {
       "description_width": "",
       "font_size": null,
       "text_color": null
      }
     },
     "2ad7c4544cf2416ea4b194a781e6ef7d": {
      "model_module": "@jupyter-widgets/controls",
      "model_module_version": "2.0.0",
      "model_name": "HTMLStyleModel",
      "state": {
       "description_width": "",
       "font_size": null,
       "text_color": null
      }
     },
     "2f600ab688cb47678c01997876eb8f3c": {
      "model_module": "@jupyter-widgets/controls",
      "model_module_version": "2.0.0",
      "model_name": "GridBoxModel",
      "state": {
       "children": [
        "IPY_MODEL_74ddd2ee5c194baa90e03df8dc8cc1e9"
       ],
       "layout": "IPY_MODEL_e75c9bac2c6949a68d066fe53a4e60a3"
      }
     },
     "2fcd7c71a3db4a3a8e4b7cb34e3cd442": {
      "model_module": "@jupyter-widgets/base",
      "model_module_version": "2.0.0",
      "model_name": "LayoutModel",
      "state": {
       "grid_template_areas": "\n                                       \". . . . right \"\n                                        ",
       "grid_template_columns": "20% 20% 20% 20% 20%",
       "width": "100%"
      }
     },
     "30c4b416cec9451a8271784dcee9e0e9": {
      "model_module": "@jupyter-widgets/base",
      "model_module_version": "2.0.0",
      "model_name": "LayoutModel",
      "state": {
       "width": "190px"
      }
     },
     "371cd0f6924f47d7aabc5226b4cfd2a5": {
      "model_module": "@jupyter-widgets/base",
      "model_module_version": "2.0.0",
      "model_name": "LayoutModel",
      "state": {
       "width": "145px"
      }
     },
     "37842cb81241487f899f43aeea0769af": {
      "model_module": "@jupyter-widgets/controls",
      "model_module_version": "2.0.0",
      "model_name": "HTMLModel",
      "state": {
       "layout": "IPY_MODEL_a4130f096e0b43a785c1503f5821678d",
       "style": "IPY_MODEL_1a6d9f20dc454a058ea145003d212f10",
       "value": "<p style='font-family: IBM Plex Sans, Arial, Helvetica, sans-serif; font-size: 20px; font-weight: medium;'>Circuit Properties</p>"
      }
     },
     "3b6d6926a7ab4eef9627ffea62bedc69": {
      "model_module": "@jupyter-widgets/controls",
      "model_module_version": "2.0.0",
      "model_name": "HTMLStyleModel",
      "state": {
       "description_width": "",
       "font_size": null,
       "text_color": null
      }
     },
     "3f9ae785493c4a82bc19febb7489e7a0": {
      "model_module": "@jupyter-widgets/base",
      "model_module_version": "2.0.0",
      "model_name": "LayoutModel",
      "state": {
       "margin": "0px 0px 0px 37px",
       "width": "600px"
      }
     },
     "406a553df0e24805831840667cac615b": {
      "model_module": "@jupyter-widgets/controls",
      "model_module_version": "2.0.0",
      "model_name": "GridBoxModel",
      "state": {
       "children": [
        "IPY_MODEL_78c9ec800eaf4b87aa7f1f9db33a0901"
       ],
       "layout": "IPY_MODEL_2fcd7c71a3db4a3a8e4b7cb34e3cd442"
      }
     },
     "41aedf109f514f6cb9a0367ed314e744": {
      "model_module": "@jupyter-widgets/controls",
      "model_module_version": "2.0.0",
      "model_name": "HTMLModel",
      "state": {
       "layout": "IPY_MODEL_1415da6a6a0647ba80ae9133b41175e7",
       "style": "IPY_MODEL_11e0917caaf84ba6bf2c2ccdb58ae476",
       "value": "<h5>Backend</h5>"
      }
     },
     "4514f5f8382d42d88cf44cfd93b3db93": {
      "model_module": "@jupyter-widgets/controls",
      "model_module_version": "2.0.0",
      "model_name": "HTMLModel",
      "state": {
       "layout": "IPY_MODEL_5b28fb43a1bd47b6ad142b0a789715d1",
       "style": "IPY_MODEL_e1bdec33f22940249dcedc72082c9e75",
       "value": "<h5>Status</h5>"
      }
     },
     "45deca11739843d18bbd871909300f81": {
      "model_module": "@jupyter-widgets/controls",
      "model_module_version": "2.0.0",
      "model_name": "HTMLStyleModel",
      "state": {
       "description_width": "",
       "font_size": null,
       "text_color": null
      }
     },
     "4962eef8995a447c89414467ed45845e": {
      "model_module": "@jupyter-widgets/base",
      "model_module_version": "2.0.0",
      "model_name": "LayoutModel",
      "state": {
       "width": "70px"
      }
     },
     "5b28fb43a1bd47b6ad142b0a789715d1": {
      "model_module": "@jupyter-widgets/base",
      "model_module_version": "2.0.0",
      "model_name": "LayoutModel",
      "state": {
       "width": "95px"
      }
     },
     "5f6486872f8b4d4db5b06c1606d37e5d": {
      "model_module": "@jupyter-widgets/controls",
      "model_module_version": "2.0.0",
      "model_name": "HTMLModel",
      "state": {
       "layout": "IPY_MODEL_371cd0f6924f47d7aabc5226b4cfd2a5",
       "style": "IPY_MODEL_8ef09526c74c4f678640b0290d1038af",
       "value": "<h5>Backend</h5>"
      }
     },
     "5f9c1b61ab664d4ea180f62034a96cbe": {
      "model_module": "@jupyter-widgets/controls",
      "model_module_version": "2.0.0",
      "model_name": "HBoxModel",
      "state": {
       "children": [
        "IPY_MODEL_b6f6a66706b84b4cbf653f47e87555b0",
        "IPY_MODEL_5f6486872f8b4d4db5b06c1606d37e5d",
        "IPY_MODEL_91b9a5d64f964b1290549e6289291027",
        "IPY_MODEL_947d14158cca4cefb1e3822d353cfc38",
        "IPY_MODEL_ab550fe3b5254f3a92cf0856c825aa32"
       ],
       "layout": "IPY_MODEL_3f9ae785493c4a82bc19febb7489e7a0"
      }
     },
     "654610e88c984b56a0699228c63632fc": {
      "model_module": "@jupyter-widgets/controls",
      "model_module_version": "2.0.0",
      "model_name": "HBoxModel",
      "state": {
       "children": [
        "IPY_MODEL_d8d61ebb6b6f4cdb868887c79a04a2fe",
        "IPY_MODEL_41aedf109f514f6cb9a0367ed314e744",
        "IPY_MODEL_4514f5f8382d42d88cf44cfd93b3db93",
        "IPY_MODEL_ae287bc54348473a8f77d57fdd1f440e",
        "IPY_MODEL_04b0defcc4a94d1a9fbd6a4927aed58a"
       ],
       "layout": "IPY_MODEL_7c77c98046e44ff899c5090df6d0e767"
      }
     },
     "74ddd2ee5c194baa90e03df8dc8cc1e9": {
      "model_module": "@jupyter-widgets/controls",
      "model_module_version": "2.0.0",
      "model_name": "ButtonModel",
      "state": {
       "button_style": "primary",
       "description": "Clear",
       "layout": "IPY_MODEL_7b96d5514ebf496183610b3b22f56d0d",
       "style": "IPY_MODEL_06ec45858af9447489c66580582d5f44",
       "tooltip": null
      }
     },
     "78c9ec800eaf4b87aa7f1f9db33a0901": {
      "model_module": "@jupyter-widgets/controls",
      "model_module_version": "2.0.0",
      "model_name": "ButtonModel",
      "state": {
       "button_style": "primary",
       "description": "Clear",
       "layout": "IPY_MODEL_aa99c753309147d4bc5fcc516e8a437e",
       "style": "IPY_MODEL_d7a3b5f0435a418db7d356c42ff1d879",
       "tooltip": null
      }
     },
     "7a597b5c798a451d8fe30a1a91d230f0": {
      "model_module": "@jupyter-widgets/base",
      "model_module_version": "2.0.0",
      "model_name": "LayoutModel",
      "state": {}
     },
     "7b96d5514ebf496183610b3b22f56d0d": {
      "model_module": "@jupyter-widgets/base",
      "model_module_version": "2.0.0",
      "model_name": "LayoutModel",
      "state": {
       "grid_area": "right",
       "padding": "0px 0px 0px 0px",
       "width": "70px"
      }
     },
     "7c77c98046e44ff899c5090df6d0e767": {
      "model_module": "@jupyter-widgets/base",
      "model_module_version": "2.0.0",
      "model_name": "LayoutModel",
      "state": {
       "margin": "0px 0px 0px 37px",
       "width": "600px"
      }
     },
     "845f0612d7474f2e8733ff415b547403": {
      "model_module": "@jupyter-widgets/controls",
      "model_module_version": "2.0.0",
      "model_name": "HTMLStyleModel",
      "state": {
       "description_width": "",
       "font_size": null,
       "text_color": null
      }
     },
     "89cb48417dcd4395b06590ee61823899": {
      "model_module": "@jupyter-widgets/controls",
      "model_module_version": "2.0.0",
      "model_name": "HTMLModel",
      "state": {
       "layout": "IPY_MODEL_ef4e13ac959548658943e27dfc8ef7c0",
       "style": "IPY_MODEL_45deca11739843d18bbd871909300f81",
       "value": "<p style='font-family: IBM Plex Sans, Arial, Helvetica, sans-serif; font-size: 20px; font-weight: medium;'>Circuit Properties</p>"
      }
     },
     "8ef09526c74c4f678640b0290d1038af": {
      "model_module": "@jupyter-widgets/controls",
      "model_module_version": "2.0.0",
      "model_name": "HTMLStyleModel",
      "state": {
       "description_width": "",
       "font_size": null,
       "text_color": null
      }
     },
     "915b298b2a99425cb02e1d52889055d2": {
      "model_module": "@jupyter-widgets/base",
      "model_module_version": "2.0.0",
      "model_name": "LayoutModel",
      "state": {
       "width": "190px"
      }
     },
     "91b9a5d64f964b1290549e6289291027": {
      "model_module": "@jupyter-widgets/controls",
      "model_module_version": "2.0.0",
      "model_name": "HTMLModel",
      "state": {
       "layout": "IPY_MODEL_d3234df583c246d0979a6b07961eb8ad",
       "style": "IPY_MODEL_2ad7c4544cf2416ea4b194a781e6ef7d",
       "value": "<h5>Status</h5>"
      }
     },
     "947d14158cca4cefb1e3822d353cfc38": {
      "model_module": "@jupyter-widgets/controls",
      "model_module_version": "2.0.0",
      "model_name": "HTMLModel",
      "state": {
       "layout": "IPY_MODEL_b92162c68c744383903e9fe07e30fff0",
       "style": "IPY_MODEL_ff9e8278c1c24c3b8e06398ee50a2db8",
       "value": "<h5>Queue</h5>"
      }
     },
     "97dba435c3b64cfdac42dd7a49c823e7": {
      "model_module": "@jupyter-widgets/controls",
      "model_module_version": "2.0.0",
      "model_name": "HTMLStyleModel",
      "state": {
       "description_width": "",
       "font_size": null,
       "text_color": null
      }
     },
     "9ce93a03814042e4ac4e8e2418a4c6b3": {
      "model_module": "@jupyter-widgets/controls",
      "model_module_version": "2.0.0",
      "model_name": "HTMLStyleModel",
      "state": {
       "description_width": "",
       "font_size": null,
       "text_color": null
      }
     },
     "a4130f096e0b43a785c1503f5821678d": {
      "model_module": "@jupyter-widgets/base",
      "model_module_version": "2.0.0",
      "model_name": "LayoutModel",
      "state": {
       "margin": "0px 0px 10px 0px"
      }
     },
     "aa99c753309147d4bc5fcc516e8a437e": {
      "model_module": "@jupyter-widgets/base",
      "model_module_version": "2.0.0",
      "model_name": "LayoutModel",
      "state": {
       "grid_area": "right",
       "padding": "0px 0px 0px 0px",
       "width": "70px"
      }
     },
     "ab550fe3b5254f3a92cf0856c825aa32": {
      "model_module": "@jupyter-widgets/controls",
      "model_module_version": "2.0.0",
      "model_name": "HTMLModel",
      "state": {
       "layout": "IPY_MODEL_193d5662060b4d98a54add495e78c02f",
       "style": "IPY_MODEL_845f0612d7474f2e8733ff415b547403",
       "value": "<h5>Message</h5>"
      }
     },
     "ae287bc54348473a8f77d57fdd1f440e": {
      "model_module": "@jupyter-widgets/controls",
      "model_module_version": "2.0.0",
      "model_name": "HTMLModel",
      "state": {
       "layout": "IPY_MODEL_4962eef8995a447c89414467ed45845e",
       "style": "IPY_MODEL_9ce93a03814042e4ac4e8e2418a4c6b3",
       "value": "<h5>Queue</h5>"
      }
     },
     "b6f6a66706b84b4cbf653f47e87555b0": {
      "model_module": "@jupyter-widgets/controls",
      "model_module_version": "2.0.0",
      "model_name": "HTMLModel",
      "state": {
       "layout": "IPY_MODEL_30c4b416cec9451a8271784dcee9e0e9",
       "style": "IPY_MODEL_fc2dc94802b24a3e96c6257e52572e0d",
       "value": "<h5>Job ID</h5>"
      }
     },
     "b92162c68c744383903e9fe07e30fff0": {
      "model_module": "@jupyter-widgets/base",
      "model_module_version": "2.0.0",
      "model_name": "LayoutModel",
      "state": {
       "width": "70px"
      }
     },
     "d3234df583c246d0979a6b07961eb8ad": {
      "model_module": "@jupyter-widgets/base",
      "model_module_version": "2.0.0",
      "model_name": "LayoutModel",
      "state": {
       "width": "95px"
      }
     },
     "d7a3b5f0435a418db7d356c42ff1d879": {
      "model_module": "@jupyter-widgets/controls",
      "model_module_version": "2.0.0",
      "model_name": "ButtonStyleModel",
      "state": {
       "font_family": null,
       "font_size": null,
       "font_style": null,
       "font_variant": null,
       "font_weight": null,
       "text_color": null,
       "text_decoration": null
      }
     },
     "d8d61ebb6b6f4cdb868887c79a04a2fe": {
      "model_module": "@jupyter-widgets/controls",
      "model_module_version": "2.0.0",
      "model_name": "HTMLModel",
      "state": {
       "layout": "IPY_MODEL_915b298b2a99425cb02e1d52889055d2",
       "style": "IPY_MODEL_3b6d6926a7ab4eef9627ffea62bedc69",
       "value": "<h5>Job ID</h5>"
      }
     },
     "e1bdec33f22940249dcedc72082c9e75": {
      "model_module": "@jupyter-widgets/controls",
      "model_module_version": "2.0.0",
      "model_name": "HTMLStyleModel",
      "state": {
       "description_width": "",
       "font_size": null,
       "text_color": null
      }
     },
     "e75c9bac2c6949a68d066fe53a4e60a3": {
      "model_module": "@jupyter-widgets/base",
      "model_module_version": "2.0.0",
      "model_name": "LayoutModel",
      "state": {
       "grid_template_areas": "\n                                       \". . . . right \"\n                                        ",
       "grid_template_columns": "20% 20% 20% 20% 20%",
       "width": "100%"
      }
     },
     "ef4e13ac959548658943e27dfc8ef7c0": {
      "model_module": "@jupyter-widgets/base",
      "model_module_version": "2.0.0",
      "model_name": "LayoutModel",
      "state": {
       "margin": "0px 0px 10px 0px"
      }
     },
     "fc2dc94802b24a3e96c6257e52572e0d": {
      "model_module": "@jupyter-widgets/controls",
      "model_module_version": "2.0.0",
      "model_name": "HTMLStyleModel",
      "state": {
       "description_width": "",
       "font_size": null,
       "text_color": null
      }
     },
     "ff9e8278c1c24c3b8e06398ee50a2db8": {
      "model_module": "@jupyter-widgets/controls",
      "model_module_version": "2.0.0",
      "model_name": "HTMLStyleModel",
      "state": {
       "description_width": "",
       "font_size": null,
       "text_color": null
      }
     }
    },
    "version_major": 2,
    "version_minor": 0
   }
  }
 },
 "nbformat": 4,
 "nbformat_minor": 5
}
